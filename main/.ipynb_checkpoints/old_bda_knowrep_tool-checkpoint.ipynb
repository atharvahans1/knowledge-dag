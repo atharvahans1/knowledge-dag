{
 "cells": [
  {
   "cell_type": "code",
   "execution_count": 1,
   "metadata": {
    "extensions": {
     "jupyter_dashboards": {
      "version": 1,
      "views": {
       "grid_default": {
        "hidden": true
       },
       "report_default": {}
      }
     }
    },
    "scrolled": false
   },
   "outputs": [],
   "source": [
    "import numpy as np\n",
    "import pandas as pd\n",
    "import json\n",
    "import matplotlib.pyplot as plt\n",
    "from matplotlib.ticker import MaxNLocator\n",
    "import matplotlib as mpl\n",
    "import scipy\n",
    "from scipy.stats import ttest_ind, norm\n",
    "from scipy.special import logsumexp\n",
    "import collections\n",
    "import matplotlib\n",
    "import networkx as nx\n",
    "from networkx.drawing.nx_agraph import write_dot, graphviz_layout\n",
    "from networkx.classes.function import subgraph\n",
    "import graphviz\n",
    "import dill as pickle\n",
    "import pymc3 as pm3\n",
    "import theano\n",
    "import theano.tensor as tt\n",
    "import plotly as pl\n",
    "import plotly.express as px\n",
    "from theano.tensor.shared_randomstreams import RandomStreams\n",
    "import seaborn as sns\n",
    "import ipywidgets as widgets\n",
    "from ipywidgets import interact, interact_manual, Layout, Button, fixed, Textarea, IntSlider, AppLayout,GridspecLayout, Output\n",
    "from sklearn.metrics import confusion_matrix\n",
    "from sklearn.metrics import accuracy_score\n",
    "from graphviz import Digraph\n",
    "import io\n",
    "from IPython.display import display_html\n",
    "from IPython.display import display\n",
    "import warnings\n",
    "warnings.filterwarnings('ignore')\n",
    "import logging\n",
    "logger = logging.getLogger('pymc3')\n",
    "logger.setLevel(logging.ERROR)\n",
    "# %matplotlib notebook\n",
    "%matplotlib inline\n",
    "sns.set_style('white')\n",
    "sns.set_context('talk')\n",
    "from theory import *\n",
    "from question import *\n",
    "from person import *\n",
    "from make_model import *"
   ]
  },
  {
   "cell_type": "code",
   "execution_count": 2,
   "metadata": {
    "extensions": {
     "jupyter_dashboards": {
      "version": 1,
      "views": {
       "grid_default": {
        "hidden": true
       }
      }
     }
    }
   },
   "outputs": [],
   "source": [
    "layout=Layout(height='auto', width='auto')"
   ]
  },
  {
   "cell_type": "code",
   "execution_count": 3,
   "metadata": {
    "extensions": {
     "jupyter_dashboards": {
      "version": 1,
      "views": {
       "grid_default": {
        "hidden": true
       },
       "report_default": {}
      }
     }
    }
   },
   "outputs": [],
   "source": [
    "style = {'description_width': 'initial'}\n",
    "node_input = widgets.FileUpload(\n",
    "    accept='.txt',  # Accepted file extension e.g. '.txt', '.pdf', 'image/*', 'image/*,.pdf'\n",
    "    multiple=False , # True to accept multiple files upload else False\n",
    "    description='Nodes',\n",
    "    button_style='', #'success', 'info', 'warning', 'danger'\n",
    "    layout=Layout(height='auto', width='auto')\n",
    ")\n",
    "edges_input = widgets.FileUpload(\n",
    "    accept='.txt',  # Accepted file extension e.g. '.txt', '.pdf', 'image/*', 'image/*,.pdf'\n",
    "    multiple=False , # True to accept multiple files upload else False\n",
    "    description='Edges',\n",
    "    button_style='', #'success', 'info', 'warning', 'danger'\n",
    "    layout=Layout(height='auto', width='auto')\n",
    ")\n",
    "same_knowledge_input = widgets.FileUpload(\n",
    "    accept='.txt',  # Accepted file extension e.g. '.txt', '.pdf', 'image/*', 'image/*,.pdf'\n",
    "    multiple=False , # True to accept multiple files upload else False\n",
    "    description='Sub-Graphs Nodes',\n",
    "    button_style='', #'success', 'info', 'warning', 'danger'\n",
    "    layout=Layout(height='auto', width='auto')\n",
    ")\n",
    "# Questions\n",
    "training_question_nodes = widgets.FileUpload(\n",
    "    accept='.txt',  # Accepted file extension e.g. '.txt', '.pdf', 'image/*', 'image/*,.pdf'\n",
    "    multiple=False , # True to accept multiple files upload else False\n",
    "    description='Question-Specific Nodes',\n",
    "    button_style='', #'success', 'info', 'warning', 'danger'\n",
    "    layout=Layout(height='auto', width='auto')\n",
    ")\n",
    "# testing_question_nodes = widgets.FileUpload(\n",
    "#     accept='.txt',  # Accepted file extension e.g. '.txt', '.pdf', 'image/*', 'image/*,.pdf'\n",
    "#     multiple=False , # True to accept multiple files upload else False\n",
    "#     description='Testing Question-Specific Nodes',\n",
    "#     button_style='', #'success', 'info', 'warning', 'danger'\n",
    "#     layout=Layout(height='auto', width='auto')\n",
    "# )\n",
    "training_data = widgets.FileUpload(\n",
    "    accept='.csv',  # Accepted file extension e.g. '.txt', '.pdf', 'image/*', 'image/*,.pdf'\n",
    "    multiple=False , # True to accept multiple files upload else False\n",
    "    description='Question Responses',\n",
    "    button_style='', #'success', 'info', 'warning', 'danger'\n",
    "    layout=Layout(height='auto', width='auto')\n",
    ")\n",
    "# style = {'description_width': 'initial'}\n",
    "# num_individuals = widgets.BoundedIntText(\n",
    "#     value=1,\n",
    "#     min=1,\n",
    "#     max=200,\n",
    "#     step=1,\n",
    "#     description='Number of Individuals',\n",
    "#     disabled=False,\n",
    "#     layout=Layout(height='auto', width='auto')\n",
    "#     style=style\n",
    "# )\n",
    "rbut1=Button(description=\"Upload Data\", \n",
    "            layout=Layout(height='auto', width='auto'),\n",
    "            button_style='danger')\n",
    "\n",
    "def run_button_clicked1(b1):\n",
    "    node_input.disabled=True\n",
    "    edges_input.disabled=True\n",
    "    same_knowledge_input.disabled=True\n",
    "    training_question_nodes.disabled=True\n",
    "    training_data.disabled=True\n",
    "    \n",
    "    b1.button_style='danger'\n",
    "    b1.description='Uploading'\n",
    "    problem_specific_inputs()\n",
    "    b1.disabled=True\n",
    "    rbut2.disabled=False\n",
    "    b1.button_style='success'\n",
    "    b1.description='Data Uploaded'\n",
    "rbut1.on_click(run_button_clicked1)"
   ]
  },
  {
   "cell_type": "code",
   "execution_count": null,
   "metadata": {},
   "outputs": [],
   "source": []
  },
  {
   "cell_type": "code",
   "execution_count": 4,
   "metadata": {
    "extensions": {
     "jupyter_dashboards": {
      "version": 1,
      "views": {
       "grid_default": {
        "hidden": true
       },
       "report_default": {}
      }
     }
    }
   },
   "outputs": [],
   "source": [
    "def problem_specific_inputs():\n",
    "    global V, E, S_nodes, V_ms1, fatigue_th, fatigue_test, Q_ms, e_obs\n",
    "    \n",
    "    V = eval(list(node_input.value.values())[0]['content'].decode(\"utf-8\"))\n",
    "    E = eval(list(edges_input.value.values())[0]['content'].decode(\"utf-8\"))\n",
    "    S_nodes = eval(list(same_knowledge_input.value.values())[0]['content'].decode(\"utf-8\"))\n",
    "    V_ms1 = eval(list(training_question_nodes.value.values())[0]['content'].decode(\"utf-8\"))\n",
    "#     V_ms2 = eval(list(testing_question_nodes.value.values())[0]['content'].decode(\"utf-8\"))\n",
    "\n",
    "    filename_e_obs = list(training_data.value.keys())[0]\n",
    "    content_e_obs = training_data.value[filename_e_obs]['content']\n",
    "    df = pd.read_csv(io.BytesIO(content_e_obs), encoding='utf8', sep=\",\", header=None, index_col=False, dtype={\"switch\": np.int8})\n",
    "    e_obs = df.values\n",
    "    \n",
    "    fatigue_th = theory(V, E, S_nodes)\n",
    "    fatigue_test = test(V, E, S_nodes)\n",
    "    Q_ms = np.array(fatigue_test.questions(V_ms1)) # training data-set\n",
    "#     Q_ms_test = np.array(fatigue_test.questions(V_ms2)) # testing data-set   "
   ]
  },
  {
   "cell_type": "code",
   "execution_count": 5,
   "metadata": {
    "extensions": {
     "jupyter_dashboards": {
      "version": 1,
      "views": {
       "grid_default": {
        "col": 0,
        "height": 12,
        "hidden": true,
        "row": 7,
        "width": 12
       },
       "report_default": {}
      }
     }
    }
   },
   "outputs": [],
   "source": [
    "# # Theory Specific Inputs\n",
    "# _=display(node_input,edges_input,same_knowledge_input,training_question_nodes, training_data, rbut1)"
   ]
  },
  {
   "cell_type": "code",
   "execution_count": 6,
   "metadata": {
    "extensions": {
     "jupyter_dashboards": {
      "version": 1,
      "views": {
       "grid_default": {
        "col": 0,
        "height": 2,
        "hidden": true,
        "row": 6,
        "width": 12
       },
       "report_default": {}
      }
     }
    }
   },
   "outputs": [],
   "source": [
    "# MCMC Sampler (NUTS) Inputs\n",
    "numchains=widgets.IntSlider(\n",
    "    value=1,\n",
    "    max=4,\n",
    "    min=1,\n",
    "    step=1,\n",
    "    description='Chains',\n",
    "    disabled=False,\n",
    "    layout=Layout(height='auto', width='auto'),\n",
    "    style=style\n",
    ")\n",
    "tunesamples=widgets.IntSlider(\n",
    "    value=500,\n",
    "    max=2000,\n",
    "    min=0,\n",
    "    step=100,\n",
    "    description='Tune Samples',\n",
    "    disabled=False,\n",
    "    layout=Layout(height='auto', width='auto'),\n",
    "    style=style\n",
    ")\n",
    "mcmciteration=widgets.IntSlider(\n",
    "    value=50000,\n",
    "    max=100000,\n",
    "    min=500, ########################################\n",
    "    step=1000,\n",
    "    description='MCMC Samples',\n",
    "    disabled=False,\n",
    "    layout=Layout(height='auto', width='auto'),\n",
    "    style=style\n",
    ")\n",
    "posterioriteration=widgets.IntSlider(\n",
    "    value=2000,\n",
    "    max=5000,\n",
    "    min=1000, ########################################\n",
    "    step=100,\n",
    "    description='Posterior Samples',\n",
    "    disabled=False,\n",
    "    layout=Layout(height='auto', width='auto'),\n",
    "    style=style\n",
    ")\n",
    "maxtreedepth=widgets.IntSlider(\n",
    "    value=7,\n",
    "    min=6,\n",
    "    max=10,\n",
    "    step=1,\n",
    "    description='Maximum Tree Depth',\n",
    "    disabled=False,\n",
    "    layout=Layout(height='auto', width='auto'),\n",
    "    style=style\n",
    ")\n",
    "earlymaxtreedepth=widgets.IntSlider(\n",
    "    value=7,\n",
    "    min=6,\n",
    "    max=10,\n",
    "    step=1,\n",
    "    description='Early Maximum Tree Depth',\n",
    "    disabled=False,\n",
    "    layout=Layout(height='auto', width='auto'),\n",
    "    style=style\n",
    ")"
   ]
  },
  {
   "cell_type": "code",
   "execution_count": 7,
   "metadata": {
    "extensions": {
     "jupyter_dashboards": {
      "version": 1,
      "views": {
       "grid_default": {
        "col": 0,
        "height": 12,
        "hidden": true,
        "row": 22,
        "width": 12
       },
       "report_default": {}
      }
     }
    },
    "scrolled": true
   },
   "outputs": [],
   "source": [
    "# display(numchains, tunesamples, mcmciteration, posterioriteration, maxtreedepth, earlymaxtreedepth)"
   ]
  },
  {
   "cell_type": "code",
   "execution_count": 8,
   "metadata": {
    "extensions": {
     "jupyter_dashboards": {
      "version": 1,
      "views": {
       "grid_default": {
        "hidden": true
       },
       "report_default": {}
      }
     }
    }
   },
   "outputs": [],
   "source": [
    "def sigmoid(x):\n",
    "    return 1/(1+np.exp(-x))\n",
    "\n",
    "def simulate():\n",
    "    global env1, trace, model, ppc_train, e_pred_training, Sflat_to_Aflat, mu_mu, sigma_mu, l, K_s_flats, K_flat_sampled_205, Aflats\n",
    "    \n",
    "    env1 = make_model1(fatigue_th, e_obs, Q_ms, iteration=mcmciteration.value, \n",
    "                       posterior_samples=posterioriteration.value,\n",
    "                       max_tree_depth=maxtreedepth.value, early_max_tree_depth=earlymaxtreedepth.value,\n",
    "                       tune_samples=tunesamples.value)\n",
    "    \n",
    "    trace = env1['trace_burn_thin']\n",
    "    model = env1['model']\n",
    "    ppc_train = env1['ppc_train']\n",
    "    e_pred_training = ppc_train['e']\n",
    "    Sflat_to_Aflat = fatigue_th.Sflat_to_Aflat\n",
    "#     K_true=fatigue_th.K_true\n",
    "#     E_to_Ktrue = fatigue_th.E_to_Ktrue\n",
    "    mu_mu = trace['mu_mu']\n",
    "    sigma_mu = trace['sigma_mu']\n",
    "    l = trace['l']\n",
    "    ## K graphs\n",
    "    K_s_flats=-1 + 2*(1/(1+np.exp(-500000*l)))\n",
    "    K_flat_sampled_205 = K_s_flats[:,:, Sflat_to_Aflat]\n",
    "    K_flat_sampled_205[K_flat_sampled_205<0]=0\n",
    "    # Population Graph\n",
    "    Aflats = []\n",
    "    for i in range(len(trace)):\n",
    "        t=norm.rvs(loc=mu_mu[i], scale=sigma_mu[i])\n",
    "        Sflats=sigmoid(t)\n",
    "        Aflats.append(Sflats[Sflat_to_Aflat])\n",
    "    Aflats = np.array(Aflats)    "
   ]
  },
  {
   "cell_type": "code",
   "execution_count": 9,
   "metadata": {
    "extensions": {
     "jupyter_dashboards": {
      "version": 1,
      "views": {
       "grid_default": {
        "hidden": true
       },
       "report_default": {}
      }
     }
    }
   },
   "outputs": [],
   "source": [
    "# Individual Knowledge Graph\n",
    "def bins_labels(bins, **kwargs):\n",
    "    bin_w = (max(bins) - min(bins)) / (len(bins) - 1)\n",
    "    plt.xticks(np.arange(min(bins)+bin_w/2, max(bins), bin_w), bins, **kwargs)\n",
    "    plt.xlim(bins[0], bins[-1])\n",
    "\n",
    "def getknowledgegraph(ss):\n",
    "    fig, ax = plt.subplots(figsize=(16,24))\n",
    "    ax.axes.xaxis.set_ticks([])\n",
    "    ax.axes.yaxis.set_ticks([])\n",
    "    fig.text(0.0,0.5, \"#Samples for Individual $%.0f$\"%(ss),\n",
    "             fontsize=25, ha=\"center\", va=\"center\", rotation=90)\n",
    "    for i in range(len(E)):\n",
    "        ax = fig.add_subplot(8,3,i+1)\n",
    "        bins = range(3)\n",
    "        _ = plt.hist(K_flat_sampled_205[:,(ss-1),i],bins=bins, rwidth=0.2)\n",
    "        bins_labels(bins)\n",
    "        ax.set_title('Link '+ str(E[i]),fontsize=25)\n",
    "        plt.tight_layout()\n",
    "        # plt.savefig('Figures/K_10_4_correct_hist.pdf', dpi=300, bbox_inches='tight')\n",
    "        \n",
    "def studentslider3(Individual):\n",
    "    getknowledgegraph(Individual)\n",
    "    \n",
    "rbut3=Button(description=\"Get Indviduals' Knowledge Graph\", \n",
    "            layout=Layout(height='auto', width='auto'),\n",
    "            tooltip=\"Individuals' Knowledge Graph\",\n",
    "            disabled=True)\n",
    "\n",
    "def run_button_clicked3(b3):\n",
    "    b3.button_style='danger'\n",
    "    b3.description='Processing'\n",
    "    out_rbut3 = Output()\n",
    "    display(out_rbut3)\n",
    "    with out_rbut3:\n",
    "        _=interact(studentslider3,Individual=widgets.IntSlider(min=1, max=len(e_obs), step=1, value=1))\n",
    "    b3.disabled=True\n",
    "#     rbut4.disabled=False\n",
    "    b3.button_style='success'\n",
    "    b3.description='Completed'\n",
    "    \n",
    "rbut3.on_click(run_button_clicked3)"
   ]
  },
  {
   "cell_type": "code",
   "execution_count": 10,
   "metadata": {
    "extensions": {
     "jupyter_dashboards": {
      "version": 1,
      "views": {
       "grid_default": {
        "hidden": true
       },
       "report_default": {}
      }
     }
    }
   },
   "outputs": [],
   "source": [
    "# Population Knowledge Graph\n",
    "def getpopknowledgegraph():\n",
    "    fig,ax=plt.subplots(sharex=True, sharey=True,figsize=(16,24))\n",
    "    ax.axes.xaxis.set_ticks([]), ax.axes.yaxis.set_ticks([])\n",
    "    fig.text(0.0,0.5, \"#Samples for Population\",\n",
    "             fontsize=25, ha=\"center\", va=\"center\", rotation=90)\n",
    "    for i in range(len(E)):\n",
    "        ax = fig.add_subplot(8,3,i+1)\n",
    "        line1 = sns.distplot(Aflats[:,i], kde=False) \n",
    "        ax.set_title('Link '+ str(E[i]), size=25)\n",
    "        ax.set_xlim([0,1])\n",
    "        ax.tick_params(axis='y', colors='black')\n",
    "    plt.tight_layout()\n",
    "    # plt.savefig('Figures/kde.pdf', dpi=300, bbox_inches='tight')\n",
    "    \n",
    "rbut4=Button(description=\"Get Populations' Knowledge Graph\", \n",
    "            layout=Layout(height='auto', width='auto'),\n",
    "            tooltip=\"Populations' Knowledge Graph\",\n",
    "            disabled=True)\n",
    "\n",
    "def run_button_clicked4(b4):\n",
    "    b4.button_style='danger'\n",
    "    b4.description='Processing'\n",
    "    out_rbut4 = Output()\n",
    "    display(out_rbut4)\n",
    "    with out_rbut4:\n",
    "        _=getpopknowledgegraph()\n",
    "    b4.disabled=True\n",
    "#     rbut5.disabled=False\n",
    "    b4.button_style='success'\n",
    "    b4.description='Completed'\n",
    "rbut4.on_click(run_button_clicked4)"
   ]
  },
  {
   "cell_type": "code",
   "execution_count": 11,
   "metadata": {
    "extensions": {
     "jupyter_dashboards": {
      "version": 1,
      "views": {
       "grid_default": {
        "hidden": true
       },
       "report_default": {}
      }
     }
    }
   },
   "outputs": [],
   "source": [
    "# Probability with which an individual will answer a question correctly\n",
    "def setting_xlable():\n",
    "    xx=[]\n",
    "    for i in range(e_pred_training.shape[2]):\n",
    "        xx.append(\"$Q_{%s}$\"%str(i+1))\n",
    "    return xx\n",
    "\n",
    "def probcorrectresponse(pred_student_number):\n",
    "    fig = px.scatter(x=setting_xlable(), y=e_pred_training.mean(axis=0)[(pred_student_number)-1])\n",
    "    fig.update_layout(\n",
    "    title={\n",
    "        'text': \"Individual#%.0f\"%pred_student_number,\n",
    "        'y':0.92,\n",
    "        'x':0.5,\n",
    "        'xanchor': 'center',\n",
    "        'yanchor': 'top'},\n",
    "    xaxis_title=\"Questions\",\n",
    "    yaxis_title=\"Probability of Correct Response\",\n",
    "    yaxis=dict(range=[0,1])\n",
    "    )\n",
    "    fig.show()\n",
    "\n",
    "def studentslider5(Individual):\n",
    "    probcorrectresponse(Individual)\n",
    "    \n",
    "rbut5=Button(description=\"Get Individuals' Probability of Correct Response\", \n",
    "            layout=Layout(height='auto', width='auto'),\n",
    "            tooltip=\"Question-wise Probability of Correct Response\",\n",
    "            disabled=True)\n",
    "\n",
    "def run_button_clicked5(b5):\n",
    "    b5.button_style='danger'\n",
    "    b5.description='Processing'\n",
    "    out_rbut5 = Output()\n",
    "    display(out_rbut5)\n",
    "    with out_rbut5:\n",
    "        _=interact(studentslider5,Individual=widgets.IntSlider(min=1, max=len(e_obs), step=1, value=1))\n",
    "    b5.disabled=True\n",
    "#     rbut6.disabled=False\n",
    "    b5.button_style='success'\n",
    "    b5.description='Completed'\n",
    "rbut5.on_click(run_button_clicked5)"
   ]
  },
  {
   "cell_type": "code",
   "execution_count": 12,
   "metadata": {
    "extensions": {
     "jupyter_dashboards": {
      "version": 1,
      "views": {
       "grid_default": {
        "hidden": true
       },
       "report_default": {}
      }
     }
    }
   },
   "outputs": [],
   "source": [
    "# Individual Causal Graph\n",
    "def individualcausalgraph(xx):\n",
    "    gcp = Digraph('Causal_Graph')\n",
    "    for i in range(len(V)):\n",
    "        gcp.node('%s'%V[i],label=V[i])\n",
    "    for i in range(len(E)):\n",
    "        gcp.edge(*E[i], label='%.2f'%K_flat_sampled_205.mean(axis=0)[(xx)-1][i], \n",
    "                 penwidth='%.2f'%K_flat_sampled_205.mean(axis=0)[(xx)-1][i])\n",
    "    gcp.render('Causal_Graph', format='pdf')\n",
    "    gcp.attr(label=r'\\n\\nKnowledge Graph for Individual#%.0f'%xx, labelloc ='t')\n",
    "    gcp.attr(fontsize='20')\n",
    "    display(gcp)\n",
    "    \n",
    "def studentslider6(Individual):\n",
    "    individualcausalgraph(Individual)\n",
    "    \n",
    "rbut6=Button(description=\"Get Individuals' Causal Graph\", \n",
    "            layout=Layout(height='auto', width='auto'),\n",
    "            tooltip=\"Individuals' Causal Graph\",\n",
    "            disabled=True)\n",
    "\n",
    "def run_button_clicked6(b6):\n",
    "    b6.button_style='danger'\n",
    "    b6.description='Processing'\n",
    "    out_rbut6 = Output()\n",
    "    display(out_rbut6)\n",
    "    with out_rbut6:\n",
    "        _=interact(studentslider6,Individual=widgets.IntSlider(min=1, max=len(e_obs), step=1, value=1))\n",
    "    b6.disabled=True\n",
    "    b6.button_style='success'\n",
    "    b6.description='Completed'\n",
    "\n",
    "rbut6.on_click(run_button_clicked6)"
   ]
  },
  {
   "cell_type": "code",
   "execution_count": 13,
   "metadata": {
    "extensions": {
     "jupyter_dashboards": {
      "version": 1,
      "views": {
       "grid_default": {
        "col": 0,
        "height": 44,
        "hidden": true,
        "row": 34,
        "width": 12
       },
       "report_default": {}
      }
     }
    },
    "scrolled": false
   },
   "outputs": [],
   "source": [
    "rbut2=Button(description=\"Run MCMC Sampler\", \n",
    "            layout=Layout(height='auto', width='auto'),\n",
    "            tooltip=\"MCMC Sample\",\n",
    "            button_style='danger',\n",
    "            disabled=True)\n",
    "\n",
    "def run_button_clicked2(b2):\n",
    "    numchains.disabled=True\n",
    "    tunesamples.disabled=True\n",
    "    mcmciteration.disabled=True\n",
    "    posterioriteration.disabled=True\n",
    "    maxtreedepth.disabled=True\n",
    "    earlymaxtreedepth.disabled=True\n",
    "    b2.button_style='danger'\n",
    "    b2.description='Sampling'\n",
    "    out_mcmc = Output()\n",
    "    display(out_mcmc)\n",
    "    with out_mcmc:\n",
    "        simulate()\n",
    "        out_mcmc.clear_output()\n",
    "    b2.disabled=True\n",
    "    rbut3.disabled=False\n",
    "    rbut4.disabled=False\n",
    "    rbut5.disabled=False\n",
    "    rbut6.disabled=False\n",
    "    b2.button_style='success'\n",
    "    b2.description='Sampling Complete'\n",
    "rbut2.on_click(run_button_clicked2)"
   ]
  },
  {
   "cell_type": "code",
   "execution_count": null,
   "metadata": {},
   "outputs": [],
   "source": []
  },
  {
   "cell_type": "code",
   "execution_count": 14,
   "metadata": {
    "extensions": {
     "jupyter_dashboards": {
      "version": 1,
      "views": {
       "grid_default": {
        "hidden": true
       },
       "report_default": {}
      }
     }
    }
   },
   "outputs": [],
   "source": [
    "tool_name = widgets.HTML(\n",
    "    value=\"<b><font size='5'><u>Hierarchical Bayesian Inference Tool for Knowledge DAGs</u><font></b>: <font size='5'>Infer individuals' causal scientific knowledge from the individuals' responses to a set of questions.<font>\",\n",
    "    placeholder='Some HTML',\n",
    "    description='',\n",
    ")\n",
    "\n",
    "header_1 = widgets.HTML(\n",
    "    value=\"<b><font size='3'>1) Theory Specific Inputs<font></b>\",\n",
    "    placeholder='Some HTML',\n",
    "    description='',\n",
    ")\n",
    "\n",
    "header_2 = widgets.HTML(\n",
    "    value=\"<b><font size='3'>2) MCMC Sampler (NUTS)<font></b>\",\n",
    "    placeholder='Some HTML',\n",
    "    description=''\n",
    ")\n",
    "\n",
    "header_3 = widgets.HTML(\n",
    "    value=\"<b><font size='3'>3) Begin Sampling<font></b>\",\n",
    "    placeholder='Some HTML',\n",
    "    description='',\n",
    "    layout=Layout(height='auto', width='auto')\n",
    ")\n",
    "\n",
    "header_4 = widgets.HTML(\n",
    "    value=\"<b><font size='3'>4) Analyze Results<font></b>\",\n",
    "    placeholder='Some HTML',\n",
    "    description='',\n",
    "    layout=Layout(height='auto', width='auto')\n",
    ")"
   ]
  },
  {
   "cell_type": "code",
   "execution_count": 15,
   "metadata": {
    "extensions": {
     "jupyter_dashboards": {
      "version": 1,
      "views": {
       "grid_default": {
        "col": 0,
        "height": 40,
        "hidden": false,
        "row": 0,
        "width": 12
       }
      }
     }
    },
    "scrolled": false
   },
   "outputs": [
    {
     "data": {
      "application/vnd.jupyter.widget-view+json": {
       "model_id": "15a436d01c334078a32994160a85ab2c",
       "version_major": 2,
       "version_minor": 0
      },
      "text/plain": [
       "GridspecLayout(children=(HTML(value=\"<b><font size='5'><u>Hierarchical Bayesian Inference Tool for Knowledge D…"
      ]
     },
     "metadata": {},
     "output_type": "display_data"
    },
    {
     "data": {
      "application/vnd.jupyter.widget-view+json": {
       "model_id": "1de1a81e663c415dbf605bc0901f1ecb",
       "version_major": 2,
       "version_minor": 0
      },
      "text/plain": [
       "Output()"
      ]
     },
     "metadata": {},
     "output_type": "display_data"
    },
    {
     "data": {
      "application/vnd.jupyter.widget-view+json": {
       "model_id": "c5669fbb42944f9fa5da5ffcd9c587f6",
       "version_major": 2,
       "version_minor": 0
      },
      "text/plain": [
       "Output()"
      ]
     },
     "metadata": {},
     "output_type": "display_data"
    },
    {
     "data": {
      "application/vnd.jupyter.widget-view+json": {
       "model_id": "7e4effa7563d41a695479ba5984fb794",
       "version_major": 2,
       "version_minor": 0
      },
      "text/plain": [
       "Output()"
      ]
     },
     "metadata": {},
     "output_type": "display_data"
    }
   ],
   "source": [
    "grid = GridspecLayout(15, 2)\n",
    "\n",
    "grid[0,:] = tool_name\n",
    "\n",
    "grid[1,0] = header_1\n",
    "grid[2,0] = node_input\n",
    "grid[3,0] = edges_input\n",
    "grid[4,0] = same_knowledge_input\n",
    "grid[5,0] = training_question_nodes\n",
    "grid[6,0] = training_data\n",
    "grid[7,0] = rbut1\n",
    "\n",
    "grid[1,1] = header_2\n",
    "grid[2,1] = numchains\n",
    "grid[3,1] = tunesamples\n",
    "grid[4,1] = mcmciteration\n",
    "grid[5,1] = posterioriteration\n",
    "grid[6,1] = maxtreedepth\n",
    "grid[7,1] = earlymaxtreedepth\n",
    "\n",
    "grid[8,:] = header_3\n",
    "grid[9,:] = rbut2\n",
    "\n",
    "grid[10,:] = header_4\n",
    "grid[11,:] = rbut3\n",
    "grid[12,:] = rbut4\n",
    "grid[13,:] = rbut5\n",
    "grid[14,:] = rbut6\n",
    "\n",
    "display(grid)"
   ]
  },
  {
   "cell_type": "code",
   "execution_count": null,
   "metadata": {
    "extensions": {
     "jupyter_dashboards": {
      "version": 1,
      "views": {
       "grid_default": {
        "hidden": true
       }
      }
     }
    }
   },
   "outputs": [],
   "source": []
  },
  {
   "cell_type": "code",
   "execution_count": null,
   "metadata": {},
   "outputs": [],
   "source": []
  },
  {
   "cell_type": "code",
   "execution_count": null,
   "metadata": {},
   "outputs": [],
   "source": []
  }
 ],
 "metadata": {
  "extensions": {
   "jupyter_dashboards": {
    "activeView": "grid_default",
    "version": 1,
    "views": {
     "grid_default": {
      "cellMargin": 10,
      "defaultCellHeight": 20,
      "maxColumns": 12,
      "name": "grid",
      "type": "grid"
     },
     "report_default": {
      "name": "report",
      "type": "report"
     }
    }
   }
  },
  "hide_input": false,
  "kernelspec": {
   "display_name": "Python 3",
   "language": "python",
   "name": "python3"
  },
  "language_info": {
   "codemirror_mode": {
    "name": "ipython",
    "version": 3
   },
   "file_extension": ".py",
   "mimetype": "text/x-python",
   "name": "python",
   "nbconvert_exporter": "python",
   "pygments_lexer": "ipython3",
   "version": "3.7.6"
  }
 },
 "nbformat": 4,
 "nbformat_minor": 2
}
