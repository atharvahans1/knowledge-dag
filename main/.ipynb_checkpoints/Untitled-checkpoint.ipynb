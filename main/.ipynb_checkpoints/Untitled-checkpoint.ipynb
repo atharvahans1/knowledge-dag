{
 "cells": [
  {
   "cell_type": "code",
   "execution_count": 2,
   "metadata": {
    "extensions": {
     "jupyter_dashboards": {
      "version": 1,
      "views": {
       "default_view": {
        "col": 0,
        "height": 2,
        "hidden": false,
        "row": 0,
        "width": 12
       }
      }
     }
    }
   },
   "outputs": [
    {
     "data": {
      "application/vnd.jupyter.widget-view+json": {
       "model_id": "0fcbd966f4c344df81b2795397b6fd47",
       "version_major": 2,
       "version_minor": 0
      },
      "text/plain": [
       "Button(description='Run Test', layout=Layout(height='auto', width='auto'), style=ButtonStyle(), tooltip='Run T…"
      ]
     },
     "metadata": {},
     "output_type": "display_data"
    },
    {
     "data": {
      "application/vnd.jupyter.widget-view+json": {
       "model_id": "d8ba281618d6421284516b831f261ce0",
       "version_major": 2,
       "version_minor": 0
      },
      "text/plain": [
       "Output()"
      ]
     },
     "metadata": {},
     "output_type": "display_data"
    }
   ],
   "source": [
    "import pymc3 as pm3\n",
    "from ipywidgets import Button, Output, Layout\n",
    "import warnings\n",
    "warnings.filterwarnings('ignore')\n",
    "import logging\n",
    "logger = logging.getLogger('pymc3')\n",
    "logger.setLevel(logging.ERROR)\n",
    "from IPython.core.display import HTML\n",
    "\n",
    "def testing():\n",
    "    test = pm3.Model()\n",
    "    with test:\n",
    "        aaa = pm3.Beta('aaa', alpha=1, beta=1, shape=15)\n",
    "        bbb = pm3.Normal('bbb', shape=10)\n",
    "        trace = pm3.sample(1000, progressbar=True)\n",
    "        \n",
    "results_output_vent = Output() \n",
    "\n",
    "rbut4=Button(description=\"Run Test\", \n",
    "            layout=Layout(height='auto', width='auto'),\n",
    "            tooltip=\"Run Test\",\n",
    "            disabled=False)\n",
    "\n",
    "def run_button_clicked4(b4):  \n",
    "    results_output_vent.clear_output()\n",
    "    b4.button_style='danger'\n",
    "    b4.description='Processing'\n",
    "    with results_output_vent:\n",
    "        testing()\n",
    "    b4.disabled=False\n",
    "    b4.button_style='success'\n",
    "    b4.description=\"Success\"\n",
    "rbut4.on_click(run_button_clicked4)\n",
    "\n",
    "display(rbut4, results_output_vent)"
   ]
  },
  {
   "cell_type": "code",
   "execution_count": null,
   "metadata": {
    "extensions": {
     "jupyter_dashboards": {
      "version": 1,
      "views": {
       "default_view": {
        "hidden": true
       }
      }
     }
    }
   },
   "outputs": [],
   "source": []
  }
 ],
 "metadata": {
  "extensions": {
   "jupyter_dashboards": {
    "activeView": "default_view",
    "version": 1,
    "views": {
     "default_view": {
      "cellMargin": 10,
      "defaultCellHeight": 40,
      "maxColumns": 12,
      "name": "active_view",
      "type": "grid"
     }
    }
   }
  },
  "kernelspec": {
   "display_name": "Python 3",
   "language": "python",
   "name": "python3"
  },
  "language_info": {
   "codemirror_mode": {
    "name": "ipython",
    "version": 3
   },
   "file_extension": ".py",
   "mimetype": "text/x-python",
   "name": "python",
   "nbconvert_exporter": "python",
   "pygments_lexer": "ipython3",
   "version": "3.7.6"
  }
 },
 "nbformat": 4,
 "nbformat_minor": 4
}
