{
 "cells": [
  {
   "cell_type": "code",
   "execution_count": null,
   "metadata": {
    "extensions": {
     "jupyter_dashboards": {
      "version": 1,
      "views": {
       "grid_default": {
        "hidden": true
       },
       "report_default": {}
      }
     }
    },
    "scrolled": false
   },
   "outputs": [],
   "source": [
    "import numpy as np\n",
    "import pandas as pd\n",
    "import matplotlib.pyplot as plt\n",
    "from matplotlib.ticker import MaxNLocator\n",
    "import matplotlib as mpl\n",
    "import scipy\n",
    "from scipy.stats import ttest_ind, norm\n",
    "from scipy.special import logsumexp\n",
    "from matplotlib.cm import ScalarMappable\n",
    "import graphviz\n",
    "import dill as pickle\n",
    "import pymc3 as pm3\n",
    "import theano\n",
    "import theano.tensor as tt\n",
    "import plotly as pl\n",
    "import plotly.graph_objects as go\n",
    "from sklearn.cluster import KMeans\n",
    "from theano.tensor.shared_randomstreams import RandomStreams\n",
    "import seaborn as sns\n",
    "import ipywidgets as widgets\n",
    "from ipywidgets import interact, interact_manual, Layout, Button, fixed, Textarea, IntSlider, AppLayout,GridspecLayout, Output\n",
    "from graphviz import Digraph\n",
    "import io\n",
    "from IPython.display import display_html, clear_output, display\n",
    "import warnings\n",
    "warnings.filterwarnings('ignore')\n",
    "import logging\n",
    "logger = logging.getLogger('pymc3')\n",
    "logger.setLevel(logging.ERROR)\n",
    "from IPython.core.display import HTML\n",
    "HTML(\"\"\"\n",
    "<style>\n",
    ".output_png {\n",
    "    display: table-cell;\n",
    "    text-align: center;\n",
    "    vertical-align: middle;\n",
    "}\n",
    "</style>\n",
    "\"\"\")\n",
    "sns.set_style('white')\n",
    "sns.set_context('talk')\n",
    "from theory import *\n",
    "from question import *\n",
    "from person import *\n",
    "from make_model import *"
   ]
  },
  {
   "cell_type": "code",
   "execution_count": null,
   "metadata": {
    "extensions": {
     "jupyter_dashboards": {
      "version": 1,
      "views": {
       "grid_default": {
        "hidden": true
       },
       "report_default": {}
      }
     }
    }
   },
   "outputs": [],
   "source": [
    "style = {'description_width': 'initial'}\n",
    "node_input = widgets.FileUpload(\n",
    "    accept='.txt',  # Accepted file extension e.g. '.txt', '.pdf', 'image/*', 'image/*,.pdf'\n",
    "    multiple=False , # True to accept multiple files upload else False\n",
    "    description='Nodes',\n",
    "    button_style='', #'success', 'info', 'warning', 'danger'\n",
    "    layout=Layout(height='auto', width='auto')\n",
    ")\n",
    "edges_input = widgets.FileUpload(\n",
    "    accept='.txt',  # Accepted file extension e.g. '.txt', '.pdf', 'image/*', 'image/*,.pdf'\n",
    "    multiple=False , # True to accept multiple files upload else False\n",
    "    description='Edges',\n",
    "    button_style='', #'success', 'info', 'warning', 'danger'\n",
    "    layout=Layout(height='auto', width='auto')\n",
    ")\n",
    "same_knowledge_input = widgets.FileUpload(\n",
    "    accept='.txt',  # Accepted file extension e.g. '.txt', '.pdf', 'image/*', 'image/*,.pdf'\n",
    "    multiple=False , # True to accept multiple files upload else False\n",
    "    description='Sub-Graphs Nodes',\n",
    "    button_style='', #'success', 'info', 'warning', 'danger'\n",
    "    layout=Layout(height='auto', width='auto')\n",
    ")\n",
    "# Questions\n",
    "training_question_nodes = widgets.FileUpload(\n",
    "    accept='.txt',  # Accepted file extension e.g. '.txt', '.pdf', 'image/*', 'image/*,.pdf'\n",
    "    multiple=False , # True to accept multiple files upload else False\n",
    "    description='Question-Specific Nodes',\n",
    "    button_style='', #'success', 'info', 'warning', 'danger'\n",
    "    layout=Layout(height='auto', width='auto')\n",
    ")\n",
    "# testing_question_nodes = widgets.FileUpload(\n",
    "#     accept='.txt',  # Accepted file extension e.g. '.txt', '.pdf', 'image/*', 'image/*,.pdf'\n",
    "#     multiple=False , # True to accept multiple files upload else False\n",
    "#     description='Testing Question-Specific Nodes',\n",
    "#     button_style='', #'success', 'info', 'warning', 'danger'\n",
    "#     layout=Layout(height='auto', width='auto')\n",
    "# )\n",
    "training_data = widgets.FileUpload(\n",
    "    accept='.csv',  # Accepted file extension e.g. '.txt', '.pdf', 'image/*', 'image/*,.pdf'\n",
    "    multiple=False , # True to accept multiple files upload else False\n",
    "    description='Question Responses',\n",
    "    button_style='', #'success', 'info', 'warning', 'danger'\n",
    "    layout=Layout(height='auto', width='auto')\n",
    ")\n",
    "# style = {'description_width': 'initial'}\n",
    "# num_individuals = widgets.BoundedIntText(\n",
    "#     value=1,\n",
    "#     min=1,\n",
    "#     max=200,\n",
    "#     step=1,\n",
    "#     description='Number of Individuals',\n",
    "#     disabled=False,\n",
    "#     layout=Layout(height='auto', width='auto')\n",
    "#     style=style\n",
    "# )\n",
    "rbut1=Button(description=\"Upload Data\", \n",
    "            layout=Layout(height='auto', width='auto'),\n",
    "            button_style='danger')\n",
    "\n",
    "def run_button_clicked1(b1):\n",
    "    results_output_vent.clear_output()\n",
    "    node_input.disabled=True\n",
    "    edges_input.disabled=True\n",
    "    same_knowledge_input.disabled=True\n",
    "    training_question_nodes.disabled=True\n",
    "    training_data.disabled=True\n",
    "    \n",
    "    numchains.disabled=False\n",
    "    tunesamples.disabled=False\n",
    "    mcmciteration.disabled=False\n",
    "    posterioriteration.disabled=False\n",
    "    maxtreedepth.disabled=False\n",
    "    earlymaxtreedepth.disabled=False\n",
    "    \n",
    "    b1.button_style='danger'\n",
    "    b1.description='Uploading'\n",
    "    with results_output_vent:\n",
    "        problem_specific_inputs()\n",
    "    b1.disabled=True\n",
    "    rbut2.disabled=False\n",
    "    b1.button_style='success'\n",
    "    b1.description='Data Uploaded'\n",
    "rbut1.on_click(run_button_clicked1)"
   ]
  },
  {
   "cell_type": "code",
   "execution_count": null,
   "metadata": {
    "extensions": {
     "jupyter_dashboards": {
      "version": 1,
      "views": {
       "grid_default": {
        "hidden": true
       },
       "report_default": {}
      }
     }
    }
   },
   "outputs": [],
   "source": [
    "def problem_specific_inputs():\n",
    "    global V, E, S_nodes, V_ms1, fatigue_th, fatigue_test, Q_ms, e_obs\n",
    "    \n",
    "    V = eval(list(node_input.value.values())[0]['content'].decode(\"utf-8\"))\n",
    "    E = eval(list(edges_input.value.values())[0]['content'].decode(\"utf-8\"))\n",
    "    S_nodes = eval(list(same_knowledge_input.value.values())[0]['content'].decode(\"utf-8\"))\n",
    "    V_ms1 = eval(list(training_question_nodes.value.values())[0]['content'].decode(\"utf-8\"))\n",
    "#     V_ms2 = eval(list(testing_question_nodes.value.values())[0]['content'].decode(\"utf-8\"))\n",
    "\n",
    "    filename_e_obs = list(training_data.value.keys())[0]\n",
    "    content_e_obs = training_data.value[filename_e_obs]['content']\n",
    "    df = pd.read_csv(io.BytesIO(content_e_obs), encoding='utf8', sep=\",\", header=None, index_col=False, dtype={\"switch\": np.int8})\n",
    "    e_obs = df.values\n",
    "    \n",
    "    fatigue_th = theory(V, E, S_nodes)\n",
    "    fatigue_test = test(V, E, S_nodes)\n",
    "    Q_ms = np.array(fatigue_test.questions(V_ms1)) # training data-set\n",
    "#     Q_ms_test = np.array(fatigue_test.questions(V_ms2)) # testing data-set   "
   ]
  },
  {
   "cell_type": "code",
   "execution_count": null,
   "metadata": {
    "extensions": {
     "jupyter_dashboards": {
      "version": 1,
      "views": {
       "grid_default": {
        "col": 0,
        "height": 2,
        "hidden": true,
        "row": 6,
        "width": 12
       },
       "report_default": {}
      }
     }
    }
   },
   "outputs": [],
   "source": [
    "# MCMC Sampler (NUTS) Inputs\n",
    "numchains=widgets.IntSlider(\n",
    "    value=1,\n",
    "    max=4,\n",
    "    min=1,\n",
    "    step=1,\n",
    "    description='Chains',\n",
    "    disabled=True,\n",
    "    layout=Layout(height='auto', width='auto'),\n",
    "    style=style\n",
    ")\n",
    "tunesamples=widgets.IntSlider(\n",
    "    value=500,\n",
    "    max=2000,\n",
    "    min=0,\n",
    "    step=100,\n",
    "    description='Tune Samples',\n",
    "    disabled=True,\n",
    "    layout=Layout(height='auto', width='auto'),\n",
    "    style=style\n",
    ")\n",
    "mcmciteration=widgets.IntSlider(\n",
    "    value=50000,\n",
    "    max=100000,\n",
    "    min=500, ########################################\n",
    "    step=500,\n",
    "    description='MCMC Samples',\n",
    "    disabled=True,\n",
    "    layout=Layout(height='auto', width='auto'),\n",
    "    style=style\n",
    ")\n",
    "posterioriteration=widgets.IntSlider(\n",
    "    value=2000,\n",
    "    max=5000,\n",
    "    min=1000, ########################################\n",
    "    step=100,\n",
    "    description='Posterior Samples',\n",
    "    disabled=True,\n",
    "    layout=Layout(height='auto', width='auto'),\n",
    "    style=style\n",
    ")\n",
    "maxtreedepth=widgets.IntSlider(\n",
    "    value=7,\n",
    "    min=6,\n",
    "    max=10,\n",
    "    step=1,\n",
    "    description='Maximum Tree Depth',\n",
    "    disabled=True,\n",
    "    layout=Layout(height='auto', width='auto'),\n",
    "    style=style\n",
    ")\n",
    "earlymaxtreedepth=widgets.IntSlider(\n",
    "    value=7,\n",
    "    min=6,\n",
    "    max=10,\n",
    "    step=1,\n",
    "    description='Early Maximum Tree Depth',\n",
    "    disabled=True,\n",
    "    layout=Layout(height='auto', width='auto'),\n",
    "    style=style\n",
    ")"
   ]
  },
  {
   "cell_type": "code",
   "execution_count": null,
   "metadata": {
    "extensions": {
     "jupyter_dashboards": {
      "version": 1,
      "views": {
       "grid_default": {
        "hidden": true
       },
       "report_default": {}
      }
     }
    }
   },
   "outputs": [],
   "source": [
    "def sigmoid(x):\n",
    "    return 1/(1+np.exp(-x))\n",
    "\n",
    "def simulate():\n",
    "    global env1, trace, model, ppc_train, e_pred_training, Sflat_to_Aflat, mu_mu, tau_i, l, K_s_flats, K_flat_sampled_205, Aflats, Aflats_clustering\n",
    "    \n",
    "    env1 = make_model1(fatigue_th, e_obs, Q_ms, num_chains=numchains.value,\n",
    "                       iteration=mcmciteration.value, \n",
    "                       posterior_samples=posterioriteration.value,\n",
    "                       max_tree_depth=maxtreedepth.value, early_max_tree_depth=earlymaxtreedepth.value,\n",
    "                       tune_samples=tunesamples.value)\n",
    "    \n",
    "    trace = env1['trace_burn_thin']\n",
    "    model = env1['model']\n",
    "    ppc_train = env1['ppc_train']\n",
    "    e_pred_training = ppc_train['e']\n",
    "    Sflat_to_Aflat = fatigue_th.Sflat_to_Aflat\n",
    "#     K_true=fatigue_th.K_true\n",
    "#     E_to_Ktrue = fatigue_th.E_to_Ktrue\n",
    "    mu_mu = trace['mu_mu']\n",
    "    tau_i = trace['tau_i']\n",
    "    l = trace['l']\n",
    "    ## K graphs\n",
    "    K_s_flats = -1 + 2*(1/(1+np.exp(-500000*l)))\n",
    "    K_flat_sampled_205 = K_s_flats[:,:, Sflat_to_Aflat]\n",
    "    K_flat_sampled_205[K_flat_sampled_205<0] = 0\n",
    "    # Population Graph\n",
    "    Sflats = sigmoid(mu_mu) \n",
    "    Aflats = Sflats[:,Sflat_to_Aflat]\n",
    "    Aflats = np.array(Aflats) \n",
    "    # For clustering \n",
    "    Sflats_clustering = sigmoid(mu_mu[:,None,:] + tau_i)\n",
    "    Aflats_clustering = Sflats_clustering[:,:,Sflat_to_Aflat]"
   ]
  },
  {
   "cell_type": "code",
   "execution_count": null,
   "metadata": {
    "extensions": {
     "jupyter_dashboards": {
      "version": 1,
      "views": {
       "grid_default": {
        "hidden": true
       },
       "report_default": {}
      }
     }
    }
   },
   "outputs": [],
   "source": [
    "# Population Knowledge Graph\n",
    "def getpopknowledgegraph():\n",
    "    global figpop\n",
    "    figpop, ax=plt.subplots(sharex=True, sharey=True, figsize=(12,20))\n",
    "    figpop.text(0.5,1, 'Population-level Link Probability sigm($\\mu_{ij}$)',\n",
    "             fontsize=25, ha=\"center\", va=\"center\",fontweight='bold')\n",
    "    ax.axes.xaxis.set_ticks([])\n",
    "    ax.axes.yaxis.set_ticks([])\n",
    "    figpop.text(0.0,0.5, \"#Posterior Samples\",\n",
    "             fontsize=20, ha=\"center\", va=\"center\", rotation=90)\n",
    "    for i in range(len(E)):\n",
    "        ax = figpop.add_subplot(8,3,i+1)\n",
    "        cm = plt.cm.get_cmap('Reds')\n",
    "        n, bins, patches = plt.hist(Aflats[:,i], bins=np.linspace(0,1,25)) \n",
    "        bin_centers = 0.5 * (bins[:-1] + bins[1:])\n",
    "        # scale values to interval [0,1]\n",
    "        col = bin_centers - min(bin_centers)\n",
    "        col /= max(col)\n",
    "        for c, p in zip(col, patches):\n",
    "            plt.setp(p, 'facecolor', cm(c))\n",
    "    \n",
    "        ax.set_title('Link '+ str(E[i]), fontsize=20)\n",
    "        ax.set_xlim([0,1])\n",
    "        ax.tick_params(axis='y', colors='black')\n",
    "        \n",
    "    position=figpop.add_axes([.98,.3,0.02,.4])\n",
    "    scales = np.linspace(0, 1, 7)\n",
    "    cmap = plt.get_cmap(\"Reds\")\n",
    "    norm = plt.Normalize(scales.min(), scales.max())\n",
    "    sm =  ScalarMappable(norm=norm, cmap=cmap)\n",
    "    sm.set_array([])\n",
    "    cbar = figpop.colorbar(sm,cax=position)\n",
    "    \n",
    "    plt.tight_layout()\n",
    "    \n",
    "def noneedslider():\n",
    "    getpopknowledgegraph()\n",
    "\n",
    "rbut4=Button(description=\"Get Population Knowledge Graph\", \n",
    "            layout=Layout(height='auto', width='auto'),\n",
    "            tooltip=\"Population Knowledge Graph\",\n",
    "            disabled=True)\n",
    "\n",
    "def run_button_clicked4(b4):  \n",
    "    results_output_vent.clear_output()\n",
    "    rbut5.button_style=''\n",
    "    rbut5_2.button_style=''\n",
    "    rbut6.button_style=''\n",
    "    rbut7.button_style=''\n",
    "    b4.button_style='danger'\n",
    "    b4.description='Processing'\n",
    "    with results_output_vent:\n",
    "        display(download_rbut4)\n",
    "        _=interact(noneedslider,Individual=widgets.IntSlider(min=1, max=len(e_obs), step=1, value=1))\n",
    "    b4.disabled=False\n",
    "    b4.button_style='success'\n",
    "    b4.description=\"Get Population Knowledge Graph\"\n",
    "rbut4.on_click(run_button_clicked4)\n",
    "\n",
    "# Downloading population plot\n",
    "def down_pop():\n",
    "    figpop.savefig('Figures/Population/Pop_Link_Prob.pdf', dpi=300, bbox_inches='tight')\n",
    "\n",
    "def download_pop(b_pop_download):\n",
    "    b_pop_download.button_style='danger'\n",
    "    b_pop_download.description='Processing'\n",
    "    down_pop()\n",
    "    b_pop_download.disabled=False\n",
    "    b_pop_download.button_style=''\n",
    "    b_pop_download.description=\"Download Population Knowledge Graph\"\n",
    "    \n",
    "\n",
    "download_rbut4=Button(description=\"Download Population Knowledge Graph\", \n",
    "            layout=Layout(height='auto', width='auto'),\n",
    "                      style=style,\n",
    "            tooltip=\"Download Population Knowledge Graph\",\n",
    "            disabled=False,\n",
    "            button_style='')\n",
    "download_rbut4.on_click(download_pop)"
   ]
  },
  {
   "cell_type": "code",
   "execution_count": null,
   "metadata": {
    "extensions": {
     "jupyter_dashboards": {
      "version": 1,
      "views": {
       "grid_default": {
        "hidden": true
       },
       "report_default": {}
      }
     }
    }
   },
   "outputs": [],
   "source": [
    "# Posterior Predictive Checking on training dataset----Visual Checks\n",
    "def posterior_predictive_checks():\n",
    "    global fig_post\n",
    "    \n",
    "    fig_post, ax = plt.subplots(2,2, sharey=True, sharex=True, figsize=(8,8))\n",
    "    \n",
    "    fig_post.text(0.5,1, 'Posterior predictive checking on the training dataset. Black color represent\\n incorrect responses and ivory color represent correct responses.',\n",
    "             fontsize=20, ha=\"center\", va=\"center\",fontweight='bold')\n",
    "\n",
    "    idx_train = np.argsort(e_obs.sum(axis=1))\n",
    "\n",
    "    ax[0,0].imshow(e_obs[idx_train,], aspect='auto')\n",
    "    ax[0,0].set_title('Observed')\n",
    "    ax[0,0].set_xticks(range(e_obs.shape[1]))\n",
    "    ax[0,0].set_xticklabels(range(1,1+e_obs.shape[1]))\n",
    "    ax[0,1].patch.set_visible(False)\n",
    "    ax[0,1].axis('off')\n",
    "    \n",
    "    import matplotlib.ticker as ticker\n",
    "    ax[0,0].yaxis.set_major_locator(ticker.MaxNLocator(integer=True))\n",
    "\n",
    "    ax[1,0].imshow(e_pred_training[-1,idx_train,], aspect='auto')\n",
    "    ax[1,0].set_title('GrL Posterior Sample 1')\n",
    "\n",
    "    ax[1,1].imshow(e_pred_training[-3,idx_train,], aspect='auto')\n",
    "    ax[1,1].set_title('GrL Posterior Sample 2')\n",
    "    \n",
    "    ax[1,0].set_xlabel('Question number')\n",
    "    ax[1,1].set_xlabel('Question number')\n",
    "\n",
    "    ax[1,0].set_ylabel('Individuals ordered by\\n #of correct responses')\n",
    "    ax[0,0].set_ylabel('Individuals ordered by\\n #of correct responses')\n",
    "    \n",
    "    plt.tight_layout()\n",
    "    \n",
    "def noneedslider2():\n",
    "    posterior_predictive_checks()\n",
    "    \n",
    "rbut5=Button(description=\"Get Posterior Predictive Checks for Training Dataset (Visual Checks)\", \n",
    "            layout=Layout(height='auto', width='auto'),\n",
    "            tooltip=\"Posterior Predictive Checks for Training Dataset (Visual Checks)\",\n",
    "            disabled=True)\n",
    "\n",
    "def run_button_clicked5(b5):  \n",
    "    results_output_vent.clear_output()\n",
    "    rbut4.button_style=''\n",
    "    rbut5_2.button_style=''\n",
    "    rbut6.button_style=''\n",
    "    rbut7.button_style=''\n",
    "    b5.button_style='danger'\n",
    "    b5.description='Processing'\n",
    "    with results_output_vent:\n",
    "        display(download_rbut5)\n",
    "        _=interact(noneedslider2,Individual=widgets.IntSlider(min=1, max=len(e_obs), step=1, value=1))\n",
    "    b5.disabled=False\n",
    "    b5.button_style='success'\n",
    "    b5.description=\"Get Posterior Predictive Checks for Training Dataset (Visual Checks)\"\n",
    "rbut5.on_click(run_button_clicked5)\n",
    "\n",
    "\n",
    "# Downloading ppc\n",
    "def down_ppc():\n",
    "    fig_post.savefig('Figures/Post_Pred_Check_Training/ppc_training_visual_checks.pdf', dpi=300, bbox_inches='tight')\n",
    "\n",
    "def download_ppc(b_ppc_download):\n",
    "    b_ppc_download.button_style='danger'\n",
    "    b_ppc_download.description='Processing'\n",
    "    down_ppc()\n",
    "    b_ppc_download.disabled=False\n",
    "    b_ppc_download.button_style=''\n",
    "    b_ppc_download.description=\"Download Posterior Predictive Plot (Visual Checks)\"\n",
    "\n",
    "download_rbut5=Button(description=\"Download Posterior Predictive Plot (Visual Checks)\",\n",
    "                      layout=Layout(height='auto', width='auto'),\n",
    "                      tooltip=\"Download Posterior Predictive Plot (Visual Checks)\",\n",
    "                      button_style='',\n",
    "                      disabled=False\n",
    "                     )\n",
    "download_rbut5.on_click(download_ppc)"
   ]
  },
  {
   "cell_type": "code",
   "execution_count": null,
   "metadata": {
    "extensions": {
     "jupyter_dashboards": {
      "version": 1,
      "views": {
       "grid_default": {
        "hidden": true
       },
       "report_default": {}
      }
     }
    }
   },
   "outputs": [],
   "source": [
    "# Posterior Predictive Checking on training dataset----# of correct responses\n",
    "def population_test(e_pred_training):\n",
    "    return np.sum(e_pred_training, axis=(1,2))\n",
    "\n",
    "def posterior_predictive_checks_correct_res():\n",
    "    global fig_post_correct_res\n",
    "    \n",
    "    fig_post_correct_res, ax = plt.subplots(figsize=(8,8))\n",
    "    fig_post_correct_res.text(0.5,1, 'Posterior predictive checking on the training dataset. Blue line represents\\n the observed number of correct responses for the population.',\n",
    "             fontsize=20, ha=\"center\", va=\"center\",fontweight='bold')\n",
    "    \n",
    "    test_grlm = population_test(e_pred_training)\n",
    "    test_obs = np.sum(e_obs)\n",
    "    bayes_p_value = np.sum(test_grlm>test_obs)/test_grlm.shape[0]\n",
    "\n",
    "    _=sns.distplot(test_grlm, ax=ax, color='red', label='GrL\\n(Bayes p=%.2f)'%bayes_p_value)\n",
    "    ax.axvline(test_obs, 0,4000, lw=4, label='Observed')\n",
    "    ax.set_xlabel('Total correct responses\\n by the population')\n",
    "    ax.set_ylabel('Frequency')\n",
    "    ax.legend(fontsize=14, loc='best')\n",
    "    plt.tight_layout()\n",
    "    \n",
    "def noneedslider3():\n",
    "    posterior_predictive_checks_correct_res()\n",
    "    \n",
    "rbut5_2=Button(description=\"Get Posterior Predictive Checks for Training Dataset (#Correct Responses)\", \n",
    "            layout=Layout(height='auto', width='auto'),\n",
    "            tooltip=\"Posterior Predictive Checks for Training Dataset (#Correct Responses)\",\n",
    "            disabled=True)\n",
    "\n",
    "def run_button_clicked5_2(b5_2):  \n",
    "    results_output_vent.clear_output()\n",
    "    rbut4.button_style=''\n",
    "    rbut5.button_style=''\n",
    "    rbut6.button_style=''\n",
    "    rbut7.button_style=''\n",
    "    b5_2.button_style='danger'\n",
    "    b5_2.description='Processing'\n",
    "    with results_output_vent:\n",
    "        display(download_rbut5_2)\n",
    "        _=interact(noneedslider3,Individual=widgets.IntSlider(min=1, max=len(e_obs), step=1, value=1))\n",
    "    b5_2.disabled=False\n",
    "    b5_2.button_style='success'\n",
    "    b5_2.description=\"Get Posterior Predictive Checks for Training Dataset (#Correct Responses)\"\n",
    "rbut5_2.on_click(run_button_clicked5_2)\n",
    "\n",
    "\n",
    "# Downloading ppc\n",
    "def down_ppc_correct_res():\n",
    "    fig_post_correct_res.savefig('Figures/Post_Pred_Check_Training/ppc_training_correct_res.pdf', dpi=300, bbox_inches='tight')\n",
    "\n",
    "def download_ppc_correct_res(b_ppc_correct_res_download):\n",
    "    b_ppc_correct_res_download.button_style='danger'\n",
    "    b_ppc_correct_res_download.description='Processing'\n",
    "    down_ppc_correct_res()\n",
    "    b_ppc_correct_res_download.disabled=False\n",
    "    b_ppc_correct_res_download.button_style=''\n",
    "    b_ppc_correct_res_download.description=\"Download Posterior Predictive Plot (#Correct Responses)\"\n",
    "\n",
    "download_rbut5_2=Button(description=\"Download Posterior Predictive Plot (#Correct Responses)\",\n",
    "                      layout=Layout(height='auto', width='auto'),\n",
    "                      tooltip=\"Download Posterior Predictive Plot (#Correct Responses)\",\n",
    "                      button_style='',\n",
    "                      disabled=False\n",
    "                     )\n",
    "download_rbut5_2.on_click(download_ppc_correct_res)"
   ]
  },
  {
   "cell_type": "code",
   "execution_count": null,
   "metadata": {
    "extensions": {
     "jupyter_dashboards": {
      "version": 1,
      "views": {
       "grid_default": {
        "hidden": true
       },
       "report_default": {}
      }
     }
    }
   },
   "outputs": [],
   "source": [
    "# Individual Causal Graph\n",
    "def individualcausalgraph(xx):\n",
    "    global gcp, download_number_dag\n",
    "    download_number_dag = xx\n",
    "    \n",
    "    penwidth_diagraph = 3*Aflats_clustering\n",
    "    \n",
    "    gcp = Digraph('Causal_Graph')\n",
    "    for i in range(len(V)):\n",
    "        gcp.node('%s'%V[i],label=V[i])\n",
    "    for i in range(len(E)):\n",
    "        gcp.edge(*E[i], label='%.2f'%Aflats_clustering.mean(axis=0)[(xx)-1][i], \n",
    "                 penwidth='%.2f'%penwidth_diagraph.mean(axis=0)[(xx)-1][i])\n",
    "    gcp.attr(label=r'\\n\\nKnowledge Graph for Individual#%.0f'%xx, labelloc ='t')\n",
    "    gcp.attr(fontsize='20')\n",
    "    display(gcp)\n",
    "    \n",
    "def studentslider6(Individual):\n",
    "    individualcausalgraph(Individual)\n",
    "    \n",
    "rbut6=Button(description=\"Get Individuals' Knowledge Graph (DAG)\", \n",
    "            layout=Layout(height='auto', width='auto'),\n",
    "            tooltip=\"Individuals' Knowledge Graph (DAG)\",\n",
    "            disabled=True)\n",
    "\n",
    "def run_button_clicked6(b6):\n",
    "    results_output_vent.clear_output()\n",
    "    rbut4.button_style=''\n",
    "    rbut5.button_style=''\n",
    "    rbut5_2.button_style=''\n",
    "    rbut7.button_style=''\n",
    "    b6.button_style='danger'\n",
    "    b6.description='Processing'\n",
    "    with results_output_vent:\n",
    "        display(download_rbut6)\n",
    "        interact(studentslider6,Individual=widgets.IntSlider(min=1, max=len(e_obs), step=1, value=1,\n",
    "                                                            description='Individual#', layout=Layout(height='auto', width='auto'),\n",
    "                                                            style=style));\n",
    "    b6.disabled=False\n",
    "    b6.button_style='success'\n",
    "    b6.description=\"Get Individuals' Knowledge Graph (DAG)\"\n",
    "rbut6.on_click(run_button_clicked6)\n",
    "\n",
    "# Downloading DAG\n",
    "def down_dag():\n",
    "    gcp.render('Figures/Individual_DAGs/DAG-Individual-%.0f'%download_number_dag)\n",
    "\n",
    "def download_dag(b_download):\n",
    "    b_download.button_style='danger'\n",
    "    b_download.description='Processing'\n",
    "    down_dag()\n",
    "    b_download.disabled=False\n",
    "    b_download.button_style=''\n",
    "    b_download.description=\"Download Knowledge Graph (DAG)\"\n",
    "\n",
    "download_rbut6=Button(description=\"Download Knowledge Graph (DAG)\",\n",
    "                      layout=Layout(height='auto', width='auto'),\n",
    "                      tooltip=\"Download Knowledge Graph (DAG)\",\n",
    "                      button_style='',\n",
    "                      disabled=False\n",
    "                     )\n",
    "download_rbut6.on_click(download_dag)"
   ]
  },
  {
   "cell_type": "code",
   "execution_count": null,
   "metadata": {
    "extensions": {
     "jupyter_dashboards": {
      "version": 1,
      "views": {
       "grid_default": {
        "hidden": true
       },
       "report_default": {}
      }
     }
    }
   },
   "outputs": [],
   "source": [
    "#Parallel Cordination Plot\n",
    "def plotting_link_specific_cluster_plot(num_clusters, width, height):\n",
    "    ### Parallel Coordination Based on a_ij's\n",
    "    ## Clustering\n",
    "    parallel_coor_aij = Aflats_clustering.mean(axis=0) #shape=num_students X num_links\n",
    "    kmeans = KMeans(n_clusters=num_clusters, random_state=0).fit(parallel_coor_aij)\n",
    "    # kmeans.labels_\n",
    " \n",
    "\n",
    "    ## Automating Dictionary\n",
    "    par_cord_list = []\n",
    "    for num_links in range(len(E)):\n",
    "        values = [[0,1], str(E[num_links]), parallel_coor_aij[:,num_links]]\n",
    "        par_cord_list.append(values)\n",
    "\n",
    "    parallel_cord_list = []\n",
    "    keys= [\"range\",\"label\",\"values\"]   \n",
    "    for i in range(len(E)):\n",
    "        intermediary_dict = {}\n",
    "        for j in range(len(keys)):\n",
    "            intermediary_dict[keys[j]]=par_cord_list[i][j]\n",
    "        parallel_cord_list.append(intermediary_dict)\n",
    "\n",
    "    # Adding individual numbering \n",
    "    dicts_naming = {}\n",
    "    keys= [\"range\",\"label\",\"values\",\"tickvals\"] \n",
    "    values_naming = [[1,e_obs.shape[0]], \"Select Individual\", list(range(1, 1+e_obs.shape[0])),list(range(1, 1+e_obs.shape[0])) ]\n",
    "    for i in range(len(keys)):\n",
    "        dicts_naming[keys[i]] = values_naming[i]\n",
    "\n",
    "    parallel_cord_list.insert(0,dicts_naming)\n",
    "\n",
    "\n",
    "    ## plotting parallel coordination a_ij's\n",
    "    fig_aij = go.Figure(data=\n",
    "    go.Parcoords(\n",
    "        line = dict(color = kmeans.labels_),# colorscale = 'rdylgn', showscale = True, cmin = 0, cmax = 1),\n",
    "        dimensions = parallel_cord_list))\n",
    "    \n",
    "    fig_aij.update_layout(\n",
    "    plot_bgcolor = 'white',\n",
    "    paper_bgcolor = 'white')\n",
    "\n",
    "    fig_aij.update_layout(\n",
    "#         title='Parallel Coordination Plot + Cluster wrt Posterior Link Probabilities',\n",
    "    autosize=False,\n",
    "    width=width, #1800\n",
    "    height=height,) #500\n",
    "\n",
    "\n",
    "    fig_aij.show();\n",
    "\n",
    "#Buttons\n",
    "    \n",
    "rbut7=Button(description=\"Get Parallel Coordination Plot + Clusters wrt Posterior Link Probabilities\", \n",
    "            layout=Layout(height='auto', width='auto'),\n",
    "            tooltip=\"Parallel Coordination Plot + Clusters wrt Posterior Link Probabilities\",\n",
    "            disabled=True)\n",
    "\n",
    "\n",
    "def studentslider7(Clusters,Width,Height):\n",
    "    plotting_link_specific_cluster_plot(Clusters, Width, Height)\n",
    "\n",
    "\n",
    "def run_button_clicked7(b7):\n",
    "    results_output_vent.clear_output()\n",
    "    rbut4.button_style=''\n",
    "    rbut5.button_style=''\n",
    "    rbut5_2.button_style=''\n",
    "    rbut6.button_style=''\n",
    "    b7.button_style='danger'\n",
    "    b7.description='Processing'\n",
    "    with results_output_vent:\n",
    "        interact(studentslider7, Clusters=widgets.IntSlider(min=1, max=len(e_obs)/2, step=1, value=2,\n",
    "                                                            description='#Clusters Across Population:',\n",
    "                                                            layout=Layout(height='auto', width='auto'),\n",
    "                                                            style=style), \n",
    "                 Width=widgets.IntSlider(min=1500, max=2500, step=100, value=1800, \n",
    "                                         description='Figure Width',\n",
    "                                         layout=Layout(height='auto', width='auto'),\n",
    "                                         style=style),\n",
    "                Height=widgets.IntSlider(min=500, max=2500, step=100, value=500, description='Figure Height',\n",
    "                                         layout=Layout(height='auto', width='auto'),\n",
    "                                         style=style))\n",
    "    b7.disabled=False\n",
    "    b7.button_style='success'\n",
    "    b7.description=\"Compare Individual's Across Causal Links\"\n",
    "rbut7.on_click(run_button_clicked7)"
   ]
  },
  {
   "cell_type": "code",
   "execution_count": null,
   "metadata": {
    "extensions": {
     "jupyter_dashboards": {
      "version": 1,
      "views": {
       "grid_default": {
        "hidden": true
       },
       "report_default": {}
      }
     }
    }
   },
   "outputs": [],
   "source": [
    "# Running MCMC \n",
    "rbut2=Button(description=\"Run MCMC Sampler\", \n",
    "            layout=Layout(height='auto', width='auto'),\n",
    "            tooltip=\"MCMC Sample\",\n",
    "            button_style='danger',\n",
    "            disabled=True)\n",
    "\n",
    "def run_button_clicked2(b2):\n",
    "    results_output_vent.clear_output()\n",
    "    rbut2.disabled=True\n",
    "    numchains.disabled=True\n",
    "    tunesamples.disabled=True\n",
    "    mcmciteration.disabled=True\n",
    "    posterioriteration.disabled=True\n",
    "    maxtreedepth.disabled=True\n",
    "    earlymaxtreedepth.disabled=True\n",
    "    b2.button_style='danger'\n",
    "    b2.description='Sampling'\n",
    "    with results_output_vent:\n",
    "        print(simulate())\n",
    "        results_output_vent.clear_output()\n",
    "    b2.disabled=True\n",
    "    rbut4.disabled=False\n",
    "    rbut5.disabled=False\n",
    "    rbut5_2.disabled=False\n",
    "    rbut6.disabled=False\n",
    "    rbut7.disabled=False\n",
    "    b2.button_style='success'\n",
    "    b2.description='Sampling Complete'\n",
    "rbut2.on_click(run_button_clicked2)"
   ]
  },
  {
   "cell_type": "code",
   "execution_count": null,
   "metadata": {
    "extensions": {
     "jupyter_dashboards": {
      "version": 1,
      "views": {
       "grid_default": {
        "hidden": true
       },
       "report_default": {}
      }
     }
    }
   },
   "outputs": [],
   "source": [
    "tool_name = widgets.HTML(\n",
    "    value=\"<b><font size='5'><u>Hierarchical Bayesian Inference Tool for Knowledge DAGs</u><font></b>: <font size='5'>Infer individuals' causal scientific knowledge from the individuals' responses to a set of questions.<font>\",\n",
    "    placeholder='Some HTML',\n",
    "    description='',\n",
    ")\n",
    "\n",
    "header_1 = widgets.HTML(\n",
    "    value=\"<b><font size='3'>1) Theory Specific Inputs<font></b>\",\n",
    "    placeholder='Some HTML',\n",
    "    description='',\n",
    ")\n",
    "\n",
    "header_2 = widgets.HTML(\n",
    "    value=\"<b><font size='3'>2) MCMC Sampler (NUTS)<font></b>\",\n",
    "    placeholder='Some HTML',\n",
    "    description=''\n",
    ")\n",
    "\n",
    "header_3 = widgets.HTML(\n",
    "    value=\"<b><font size='3'>3) Begin Sampling<font></b>\",\n",
    "    placeholder='Some HTML',\n",
    "    description='',\n",
    "    layout=Layout(height='auto', width='auto')\n",
    ")\n",
    "\n",
    "header_4 = widgets.HTML(\n",
    "    value=\"<b><font size='3'>4) Analyze Results<font></b>\",\n",
    "    placeholder='Some HTML',\n",
    "    description='',\n",
    "    layout=Layout(height='auto', width='auto')\n",
    ")\n",
    "\n",
    "header_5 = widgets.HTML(\n",
    "    value=\"<b><font size='3'>5) Outputs<font></b>\",\n",
    "    placeholder='Some HTML',\n",
    "    description='',\n",
    "    layout=Layout(height='auto', width='auto')\n",
    ")"
   ]
  },
  {
   "cell_type": "code",
   "execution_count": null,
   "metadata": {
    "extensions": {
     "jupyter_dashboards": {
      "version": 1,
      "views": {
       "grid_default": {
        "hidden": true
       },
       "report_default": {}
      }
     }
    }
   },
   "outputs": [],
   "source": [
    "results_output_vent = Output() "
   ]
  },
  {
   "cell_type": "code",
   "execution_count": null,
   "metadata": {
    "extensions": {
     "jupyter_dashboards": {
      "version": 1,
      "views": {
       "grid_default": {
        "col": 0,
        "height": 40,
        "hidden": false,
        "row": 0,
        "width": 12
       },
       "report_default": {}
      }
     }
    },
    "scrolled": false
   },
   "outputs": [],
   "source": [
    "grid = GridspecLayout(48, 2)\n",
    "\n",
    "grid[0,:] = tool_name\n",
    "\n",
    "grid[1,0] = header_1\n",
    "grid[2,0] = node_input\n",
    "grid[3,0] = edges_input\n",
    "grid[4,0] = same_knowledge_input\n",
    "grid[5,0] = training_question_nodes\n",
    "grid[6,0] = training_data\n",
    "grid[7,0] = rbut1\n",
    "\n",
    "grid[1,1] = header_2\n",
    "grid[2,1] = numchains\n",
    "grid[3,1] = tunesamples\n",
    "grid[4,1] = mcmciteration\n",
    "grid[5,1] = posterioriteration\n",
    "grid[6,1] = maxtreedepth\n",
    "grid[7,1] = earlymaxtreedepth\n",
    "\n",
    "grid[8,:] = header_3\n",
    "grid[9,:] = rbut2\n",
    "\n",
    "grid[10,:] = header_4\n",
    "grid[11,:] = rbut5\n",
    "grid[12,:] = rbut5_2\n",
    "grid[13,:] = rbut4\n",
    "grid[14,:] = rbut6\n",
    "grid[15,:] = rbut7\n",
    "\n",
    "\n",
    "grid[16,:] = header_5\n",
    "grid[17:45,:] = results_output_vent\n",
    "\n",
    "display(grid)"
   ]
  }
 ],
 "metadata": {
  "extensions": {
   "jupyter_dashboards": {
    "activeView": "grid_default",
    "version": 1,
    "views": {
     "grid_default": {
      "cellMargin": 10,
      "defaultCellHeight": 20,
      "maxColumns": 12,
      "name": "grid",
      "type": "grid"
     },
     "report_default": {
      "name": "report",
      "type": "report"
     }
    }
   }
  },
  "hide_input": false,
  "kernelspec": {
   "display_name": "Python 3",
   "language": "python",
   "name": "python3"
  },
  "language_info": {
   "codemirror_mode": {
    "name": "ipython",
    "version": 3
   },
   "file_extension": ".py",
   "mimetype": "text/x-python",
   "name": "python",
   "nbconvert_exporter": "python",
   "pygments_lexer": "ipython3",
   "version": "3.7.6"
  }
 },
 "nbformat": 4,
 "nbformat_minor": 2
}
